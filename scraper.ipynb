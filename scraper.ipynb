{
 "cells": [
  {
   "cell_type": "code",
   "execution_count": 1,
   "metadata": {},
   "outputs": [
    {
     "name": "stdout",
     "output_type": "stream",
     "text": [
      "\n",
      " Scraping succesfully done! You can now check 'new.csv' file \n"
     ]
    }
   ],
   "source": [
    "import time\n",
    "from selenium import webdriver\n",
    "from selenium.webdriver.common.keys import Keys\n",
    "from webdriver_manager.chrome import ChromeDriverManager\n",
    "from bs4 import BeautifulSoup\n",
    "import csv\n",
    "import pandas as pd\n",
    "\n",
    "                    ##______________ Start Selenium setup______________________##\n",
    "    \n",
    "\n",
    "chromedriver_location = 'F:\\Data Science Projects\\chromedriver.exe'  #Use your chromedriver.exe filepath\n",
    "browser = webdriver.Chrome(executable_path=chromedriver_location) \n",
    "                                                          \n",
    "#browser = webdriver.Chrome(ChromeDriverManager().install())      #uncheck this line if you don't have chromedrive\n",
    "\n",
    "url = \"https://in.finance.yahoo.com/quote/HEROMOTOCO.NS/history?p=HEROMOTOCO.NS\"\n",
    "browser.get(url)\n",
    "time.sleep(1)\n",
    "\n",
    "element = browser.find_element_by_tag_name(\"body\")\n",
    "\n",
    "no_of_pagedowns = 25\n",
    "\n",
    "while no_of_pagedowns:\n",
    "    element.send_keys(Keys.PAGE_DOWN)\n",
    "    time.sleep(0.2)\n",
    "    no_of_pagedowns-=1\n",
    "\n",
    "\n",
    "page_source = browser.page_source      \n",
    "\n",
    "                                ###_________End of selenium part_____________ ##\n",
    "                                ###_________Beautifulsoup Beginning___________##\n",
    "\n",
    "soup = BeautifulSoup(page_source, 'lxml')\n",
    "filename = 'data.csv'\n",
    "csv_writer = csv.writer(open(filename, 'w'))\n",
    "tableHead =soup.find('thead')\n",
    "tableBody = soup.find('tbody')\n",
    "\n",
    "#For scraping the Title of the desired table\n",
    "title = []\n",
    "for heading in tableHead.find_all('th'):\n",
    "    title.append(heading.text)    \n",
    "csv_writer.writerow(title)      \n",
    "\n",
    "\n",
    "#For scraping the datas of the desired table\n",
    "data = []\n",
    "for tr in tableBody:\n",
    "    a=[]\n",
    "    for td in tr.find_all('td'):\n",
    "        data.append(a)\n",
    "        if (td.text):\n",
    "            a.append(td.text)\n",
    "            continue\n",
    "\n",
    "print (\"\\n Scraping succesfully done! You can now check 'new.csv' file \")\n",
    "\n",
    "        ##_________Import the data into a DataFrame using Pandas________##\n",
    "\n",
    "\n",
    "df =pd.DataFrame(data, columns=title)\n",
    "\n"
   ]
  },
  {
   "cell_type": "code",
   "execution_count": 2,
   "metadata": {},
   "outputs": [
    {
     "data": {
      "text/plain": [
       "(1714, 7)"
      ]
     },
     "execution_count": 2,
     "metadata": {},
     "output_type": "execute_result"
    }
   ],
   "source": [
    "df.shape"
   ]
  }
 ],
 "metadata": {
  "kernelspec": {
   "display_name": "Python 3",
   "language": "python",
   "name": "python3"
  },
  "language_info": {
   "codemirror_mode": {
    "name": "ipython",
    "version": 3
   },
   "file_extension": ".py",
   "mimetype": "text/x-python",
   "name": "python",
   "nbconvert_exporter": "python",
   "pygments_lexer": "ipython3",
   "version": "3.7.6"
  },
  "varInspector": {
   "cols": {
    "lenName": 16,
    "lenType": 16,
    "lenVar": 40
   },
   "kernels_config": {
    "python": {
     "delete_cmd_postfix": "",
     "delete_cmd_prefix": "del ",
     "library": "var_list.py",
     "varRefreshCmd": "print(var_dic_list())"
    },
    "r": {
     "delete_cmd_postfix": ") ",
     "delete_cmd_prefix": "rm(",
     "library": "var_list.r",
     "varRefreshCmd": "cat(var_dic_list()) "
    }
   },
   "types_to_exclude": [
    "module",
    "function",
    "builtin_function_or_method",
    "instance",
    "_Feature"
   ],
   "window_display": false
  }
 },
 "nbformat": 4,
 "nbformat_minor": 4
}
